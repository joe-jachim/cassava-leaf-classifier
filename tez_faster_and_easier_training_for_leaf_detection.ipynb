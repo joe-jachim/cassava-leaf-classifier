{
  "nbformat": 4,
  "nbformat_minor": 0,
  "metadata": {
    "kernelspec": {
      "language": "python",
      "display_name": "Python 3",
      "name": "python3"
    },
    "language_info": {
      "pygments_lexer": "ipython3",
      "nbconvert_exporter": "python",
      "version": "3.6.4",
      "file_extension": ".py",
      "codemirror_mode": {
        "name": "ipython",
        "version": 3
      },
      "name": "python",
      "mimetype": "text/x-python"
    },
    "colab": {
      "name": "tez-faster-and-easier-training-for-leaf-detection.ipynb",
      "provenance": [],
      "toc_visible": true,
      "include_colab_link": true
    },
    "accelerator": "GPU"
  },
  "cells": [
    {
      "cell_type": "markdown",
      "metadata": {
        "id": "view-in-github",
        "colab_type": "text"
      },
      "source": [
        "<a href=\"https://colab.research.google.com/github/joe-jachim/cassava-leaf-classifier/blob/main/tez_faster_and_easier_training_for_leaf_detection.ipynb\" target=\"_parent\"><img src=\"https://colab.research.google.com/assets/colab-badge.svg\" alt=\"Open In Colab\"/></a>"
      ]
    },
    {
      "cell_type": "markdown",
      "metadata": {
        "id": "wmp8yDArD8n_"
      },
      "source": [
        "# Install Tez"
      ]
    },
    {
      "cell_type": "code",
      "metadata": {
        "_uuid": "8f2839f25d086af736a60e9eeb907d3b93b6e0e5",
        "_cell_guid": "b1076dfc-b9ad-4769-8c92-a6c4dae69d19",
        "trusted": true,
        "_kg_hide-output": true,
        "id": "Nwo8PwFdD8oE"
      },
      "source": [
        "%%capture\n",
        "\n",
        "import os\n",
        "\n",
        "if not os.path.isfile('/content/data/train.csv'):\n",
        "  from google.colab import drive\n",
        "  drive.mount('/content/drive')\n",
        "  !pip install tez\n",
        "  !pip install efficientnet-pytorch\n",
        "  !pip install efficientnet_pytorch\n",
        "  !pip install -U git+https://github.com/albu/albumentations --no-cache-dir\n",
        "  !sudo apt-get install unzip\n",
        "  !unzip /content/drive/MyDrive/data/cassava-leaf-disease-classification.zip -d /content/data"
      ],
      "execution_count": null,
      "outputs": []
    },
    {
      "cell_type": "markdown",
      "metadata": {
        "id": "Lm9i0aGVD8oF"
      },
      "source": [
        "# Import What You Need"
      ]
    },
    {
      "cell_type": "code",
      "metadata": {
        "_uuid": "d629ff2d2480ee46fbb7e2d37f6b5fab8052498a",
        "_cell_guid": "79c7e3d0-c299-4dcb-8224-4455121ee9b0",
        "trusted": true,
        "id": "5tbL8evCD8oF"
      },
      "source": [
        "import albumentations\n",
        "import pandas as pd\n",
        "\n",
        "import tez\n",
        "from tez.datasets import ImageDataset\n",
        "from tez.callbacks import EarlyStopping\n",
        "\n",
        "import torch\n",
        "import torch.nn as nn\n",
        "from torch.nn import functional as F\n",
        "\n",
        "#from efficientnet_pytorch import EfficientNet\n",
        "from sklearn import metrics, model_selection, preprocessing"
      ],
      "execution_count": null,
      "outputs": []
    },
    {
      "cell_type": "markdown",
      "metadata": {
        "id": "_biiLlhYD8oG"
      },
      "source": [
        "# Model via Tez.Model"
      ]
    },
    {
      "cell_type": "code",
      "metadata": {
        "id": "M7bB4kq7LnSG"
      },
      "source": [
        "from efficientnet_pytorch import EfficientNet"
      ],
      "execution_count": null,
      "outputs": []
    },
    {
      "cell_type": "code",
      "metadata": {
        "trusted": true,
        "id": "nVmT8AB4D8oG"
      },
      "source": [
        "\n",
        "\n",
        "class LeafModel(tez.Model):\n",
        "    def __init__(self, num_classes):\n",
        "        super().__init__()\n",
        "\n",
        "        self.effnet = EfficientNet.from_pretrained(\"efficientnet-b7\")\n",
        "        self.dropout = nn.Dropout(0.25)\n",
        "        self.out = nn.Linear(1792, num_classes)\n",
        "        self.step_scheduler_after = \"epoch\"\n",
        "        \n",
        "    def monitor_metrics(self, outputs, targets):\n",
        "        if targets is None:\n",
        "            return {}\n",
        "        outputs = torch.argmax(outputs, dim=1).cpu().detach().numpy()\n",
        "        targets = targets.cpu().detach().numpy()\n",
        "        accuracy = metrics.accuracy_score(targets, outputs)\n",
        "        return {\"accuracy\": accuracy}\n",
        "    \n",
        "    def fetch_optimizer(self):\n",
        "        opt = torch.optim.Adam(self.parameters(), lr=3e-4)\n",
        "        return opt\n",
        "    \n",
        "    def fetch_scheduler(self):\n",
        "        sch = torch.optim.lr_scheduler.CosineAnnealingWarmRestarts(\n",
        "            self.optimizer, T_0=10, T_mult=1, eta_min=1e-6, last_epoch=-1\n",
        "        )\n",
        "        return sch\n",
        "\n",
        "    def forward(self, image, targets=None):\n",
        "        batch_size, _, _, _ = image.shape\n",
        "\n",
        "        x = self.effnet.extract_features(image)\n",
        "        x = F.adaptive_avg_pool2d(x, 1).reshape(batch_size, -1)\n",
        "        outputs = self.out(self.dropout(x))\n",
        "        \n",
        "        if targets is not None:\n",
        "            loss = nn.CrossEntropyLoss()(outputs, targets)\n",
        "            metrics = self.monitor_metrics(outputs, targets)\n",
        "            return outputs, loss, metrics\n",
        "        return outputs, None, None"
      ],
      "execution_count": null,
      "outputs": []
    },
    {
      "cell_type": "markdown",
      "metadata": {
        "id": "ppqgW1v2D8oG"
      },
      "source": [
        "# Augmentations"
      ]
    },
    {
      "cell_type": "code",
      "metadata": {
        "trusted": true,
        "id": "hTA_b5B1D8oH"
      },
      "source": [
        "# augmentations taken from: https://www.kaggle.com/khyeh0719/pytorch-efficientnet-baseline-train-amp-aug\n",
        "train_aug = albumentations.Compose([\n",
        "            albumentations.RandomResizedCrop(256, 256),\n",
        "            albumentations.Transpose(p=0.5),\n",
        "            albumentations.HorizontalFlip(p=0.5),\n",
        "            albumentations.VerticalFlip(p=0.5),\n",
        "            albumentations.ShiftScaleRotate(p=0.5),\n",
        "            albumentations.HueSaturationValue(\n",
        "                hue_shift_limit=0.2, \n",
        "                sat_shift_limit=0.2, \n",
        "                val_shift_limit=0.2, \n",
        "                p=0.5\n",
        "            ),\n",
        "            albumentations.RandomBrightnessContrast(\n",
        "                brightness_limit=(-0.1,0.1), \n",
        "                contrast_limit=(-0.1, 0.1), \n",
        "                p=0.5\n",
        "            ),\n",
        "            albumentations.Normalize(\n",
        "                mean=[0.485, 0.456, 0.406], \n",
        "                std=[0.229, 0.224, 0.225], \n",
        "                max_pixel_value=255.0, \n",
        "                p=1.0\n",
        "            ),\n",
        "            albumentations.CoarseDropout(p=0.5),\n",
        "            albumentations.Cutout(p=0.5)], p=1.)\n",
        "  \n",
        "        \n",
        "valid_aug = albumentations.Compose([\n",
        "            albumentations.CenterCrop(256, 256, p=1.),\n",
        "            albumentations.Resize(256, 256),\n",
        "            albumentations.Normalize(\n",
        "                mean=[0.485, 0.456, 0.406], \n",
        "                std=[0.229, 0.224, 0.225], \n",
        "                max_pixel_value=255.0, \n",
        "                p=1.0\n",
        "            )], p=1.)"
      ],
      "execution_count": null,
      "outputs": []
    },
    {
      "cell_type": "markdown",
      "metadata": {
        "id": "k59_52kwD8oH"
      },
      "source": [
        "# Read CSV, split & create dataset"
      ]
    },
    {
      "cell_type": "code",
      "metadata": {
        "trusted": true,
        "id": "UYmDROqrD8oH"
      },
      "source": [
        "dfx = pd.read_csv('data/train.csv')\n",
        "df_train, df_valid = model_selection.train_test_split(\n",
        "        dfx, test_size=0.1, random_state=42, stratify=dfx.label.values\n",
        ")\n",
        "\n",
        "df_train = df_train.reset_index(drop=True)\n",
        "df_valid = df_valid.reset_index(drop=True)\n",
        "\n",
        "image_path = \"data/train_images/\"\n",
        "train_image_paths = [os.path.join(image_path, x) for x in df_train.image_id.values]\n",
        "valid_image_paths = [os.path.join(image_path, x) for x in df_valid.image_id.values]\n",
        "train_targets = df_train.label.values\n",
        "valid_targets = df_valid.label.values\n",
        "\n",
        "train_dataset = ImageDataset(\n",
        "    image_paths=train_image_paths,\n",
        "    targets=train_targets,\n",
        "    augmentations=train_aug,\n",
        ")\n",
        "\n",
        "valid_dataset = ImageDataset(\n",
        "    image_paths=valid_image_paths,\n",
        "    targets=valid_targets,\n",
        "    augmentations=valid_aug,\n",
        ")"
      ],
      "execution_count": null,
      "outputs": []
    },
    {
      "cell_type": "code",
      "metadata": {
        "trusted": true,
        "id": "jXy90HzzD8oI"
      },
      "source": [
        "import matplotlib.pyplot as plt"
      ],
      "execution_count": null,
      "outputs": []
    },
    {
      "cell_type": "markdown",
      "metadata": {
        "id": "7XS8d1dLD8oI"
      },
      "source": [
        "# Load, Train & Save Model"
      ]
    },
    {
      "cell_type": "code",
      "metadata": {
        "trusted": true,
        "colab": {
          "base_uri": "https://localhost:8080/"
        },
        "id": "r1Bis6yyD8oI",
        "outputId": "17ed944e-d9e9-48e5-ff6f-add38971756d"
      },
      "source": [
        "torch.cuda.device_count()"
      ],
      "execution_count": null,
      "outputs": [
        {
          "output_type": "execute_result",
          "data": {
            "text/plain": [
              "1"
            ]
          },
          "metadata": {
            "tags": []
          },
          "execution_count": 8
        }
      ]
    },
    {
      "cell_type": "code",
      "metadata": {
        "trusted": true,
        "colab": {
          "base_uri": "https://localhost:8080/"
        },
        "id": "4u2qCkJ-D8oI",
        "outputId": "945835c8-d60e-4753-eca8-afa7e22df0d1"
      },
      "source": [
        "model = LeafModel(num_classes=dfx.label.nunique())\n",
        "es = EarlyStopping(\n",
        "    monitor=\"valid_loss\", model_path=\"model.bin\", patience=3, mode=\"min\"\n",
        ")\n",
        "model.fit(\n",
        "    train_dataset,\n",
        "    valid_dataset=valid_dataset,\n",
        "    train_bs=64,\n",
        "    valid_bs=64,\n",
        "    device=\"cuda\",\n",
        "    epochs=100,\n",
        "    callbacks=[es],\n",
        "    fp16=True,\n",
        ")\n",
        "model.save(\"model.bin\")"
      ],
      "execution_count": null,
      "outputs": [
        {
          "output_type": "stream",
          "text": [
            "Loaded pretrained weights for efficientnet-b4\n"
          ],
          "name": "stdout"
        },
        {
          "output_type": "stream",
          "text": [
            "100%|██████████| 301/301 [05:23<00:00,  1.07s/it, accuracy=0.778, loss=0.633, stage=train]\n",
            "100%|██████████| 34/34 [00:22<00:00,  1.51it/s, accuracy=0.804, loss=0.571, stage=valid]\n"
          ],
          "name": "stderr"
        },
        {
          "output_type": "stream",
          "text": [
            "Validation score improved (inf --> 0.5709431486971238). Saving model!\n"
          ],
          "name": "stdout"
        },
        {
          "output_type": "stream",
          "text": [
            "100%|██████████| 301/301 [05:23<00:00,  1.08s/it, accuracy=0.835, loss=0.47, stage=train]\n",
            "100%|██████████| 34/34 [00:22<00:00,  1.53it/s, accuracy=0.843, loss=0.469, stage=valid]\n"
          ],
          "name": "stderr"
        },
        {
          "output_type": "stream",
          "text": [
            "Validation score improved (0.5709431486971238 --> 0.46927128995166106). Saving model!\n"
          ],
          "name": "stdout"
        },
        {
          "output_type": "stream",
          "text": [
            "100%|██████████| 301/301 [05:23<00:00,  1.07s/it, accuracy=0.852, loss=0.431, stage=train]\n",
            "100%|██████████| 34/34 [00:22<00:00,  1.51it/s, accuracy=0.842, loss=0.446, stage=valid]\n"
          ],
          "name": "stderr"
        },
        {
          "output_type": "stream",
          "text": [
            "Validation score improved (0.46927128995166106 --> 0.4462587298715816). Saving model!\n"
          ],
          "name": "stdout"
        },
        {
          "output_type": "stream",
          "text": [
            "100%|██████████| 301/301 [05:24<00:00,  1.08s/it, accuracy=0.861, loss=0.395, stage=train]\n",
            "100%|██████████| 34/34 [00:22<00:00,  1.52it/s, accuracy=0.853, loss=0.437, stage=valid]\n"
          ],
          "name": "stderr"
        },
        {
          "output_type": "stream",
          "text": [
            "Validation score improved (0.4462587298715816 --> 0.43744300130535574). Saving model!\n"
          ],
          "name": "stdout"
        },
        {
          "output_type": "stream",
          "text": [
            "100%|██████████| 301/301 [05:22<00:00,  1.07s/it, accuracy=0.869, loss=0.38, stage=train]\n",
            "100%|██████████| 34/34 [00:22<00:00,  1.52it/s, accuracy=0.847, loss=0.452, stage=valid]\n",
            "  0%|          | 0/301 [00:00<?, ?it/s]"
          ],
          "name": "stderr"
        },
        {
          "output_type": "stream",
          "text": [
            "EarlyStopping counter: 1 out of 3\n"
          ],
          "name": "stdout"
        },
        {
          "output_type": "stream",
          "text": [
            "100%|██████████| 301/301 [05:23<00:00,  1.08s/it, accuracy=0.874, loss=0.36, stage=train]\n",
            "100%|██████████| 34/34 [00:22<00:00,  1.52it/s, accuracy=0.842, loss=0.458, stage=valid]\n",
            "  0%|          | 0/301 [00:00<?, ?it/s]"
          ],
          "name": "stderr"
        },
        {
          "output_type": "stream",
          "text": [
            "EarlyStopping counter: 2 out of 3\n"
          ],
          "name": "stdout"
        },
        {
          "output_type": "stream",
          "text": [
            "100%|██████████| 301/301 [05:23<00:00,  1.08s/it, accuracy=0.882, loss=0.334, stage=train]\n",
            "100%|██████████| 34/34 [00:22<00:00,  1.51it/s, accuracy=0.852, loss=0.425, stage=valid]\n"
          ],
          "name": "stderr"
        },
        {
          "output_type": "stream",
          "text": [
            "Validation score improved (0.43744300130535574 --> 0.42465033031561794). Saving model!\n"
          ],
          "name": "stdout"
        },
        {
          "output_type": "stream",
          "text": [
            "100%|██████████| 301/301 [05:23<00:00,  1.08s/it, accuracy=0.887, loss=0.319, stage=train]\n",
            "100%|██████████| 34/34 [00:22<00:00,  1.53it/s, accuracy=0.857, loss=0.412, stage=valid]\n"
          ],
          "name": "stderr"
        },
        {
          "output_type": "stream",
          "text": [
            "Validation score improved (0.42465033031561794 --> 0.4124784688739216). Saving model!\n"
          ],
          "name": "stdout"
        },
        {
          "output_type": "stream",
          "text": [
            "100%|██████████| 301/301 [05:23<00:00,  1.08s/it, accuracy=0.89, loss=0.31, stage=train]\n",
            "100%|██████████| 34/34 [00:22<00:00,  1.52it/s, accuracy=0.854, loss=0.416, stage=valid]\n",
            "  0%|          | 0/301 [00:00<?, ?it/s]"
          ],
          "name": "stderr"
        },
        {
          "output_type": "stream",
          "text": [
            "EarlyStopping counter: 1 out of 3\n"
          ],
          "name": "stdout"
        },
        {
          "output_type": "stream",
          "text": [
            "100%|██████████| 301/301 [05:23<00:00,  1.08s/it, accuracy=0.894, loss=0.297, stage=train]\n",
            "100%|██████████| 34/34 [00:22<00:00,  1.51it/s, accuracy=0.859, loss=0.415, stage=valid]\n",
            "  0%|          | 0/301 [00:00<?, ?it/s]"
          ],
          "name": "stderr"
        },
        {
          "output_type": "stream",
          "text": [
            "EarlyStopping counter: 2 out of 3\n"
          ],
          "name": "stdout"
        },
        {
          "output_type": "stream",
          "text": [
            "100%|██████████| 301/301 [05:23<00:00,  1.07s/it, accuracy=0.873, loss=0.365, stage=train]\n",
            "100%|██████████| 34/34 [00:22<00:00,  1.53it/s, accuracy=0.832, loss=0.464, stage=valid]\n"
          ],
          "name": "stderr"
        },
        {
          "output_type": "stream",
          "text": [
            "EarlyStopping counter: 3 out of 3\n"
          ],
          "name": "stdout"
        }
      ]
    }
  ]
}