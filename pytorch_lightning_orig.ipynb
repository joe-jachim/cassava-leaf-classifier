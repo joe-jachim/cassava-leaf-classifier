{
  "nbformat": 4,
  "nbformat_minor": 0,
  "metadata": {
    "colab": {
      "name": "Untitled1.ipynb",
      "provenance": [],
      "mount_file_id": "1grxQnqk4mSnYUimxl8REjGsw5bPibvUf",
      "authorship_tag": "ABX9TyM6vuD8VZHCMUIzymWAxzWt",
      "include_colab_link": true
    },
    "kernelspec": {
      "name": "python3",
      "display_name": "Python 3"
    },
    "accelerator": "GPU"
  },
  "cells": [
    {
      "cell_type": "markdown",
      "metadata": {
        "id": "view-in-github",
        "colab_type": "text"
      },
      "source": [
        "<a href=\"https://colab.research.google.com/github/joe-jachim/cassava-leaf-classifier/blob/main/pytorch_lightning_orig.ipynb\" target=\"_parent\"><img src=\"https://colab.research.google.com/assets/colab-badge.svg\" alt=\"Open In Colab\"/></a>"
      ]
    },
    {
      "cell_type": "code",
      "metadata": {
        "id": "0UpIj7r-ZE0Z"
      },
      "source": [
        "%%capture\r\n",
        "!sudo apt-get install unzip"
      ],
      "execution_count": 1,
      "outputs": []
    },
    {
      "cell_type": "code",
      "metadata": {
        "colab": {
          "base_uri": "https://localhost:8080/"
        },
        "id": "sv105ypWY9ar",
        "outputId": "4d90e5c6-16ab-4c2e-f583-c30a542778ee"
      },
      "source": [
        "%%time\r\n",
        "%%capture\r\n",
        "!unzip /content/drive/MyDrive/data/cassava-leaf-disease-classification.zip -d /content/data"
      ],
      "execution_count": 2,
      "outputs": [
        {
          "output_type": "stream",
          "text": [
            "CPU times: user 559 ms, sys: 81.7 ms, total: 641 ms\n",
            "Wall time: 4min 47s\n"
          ],
          "name": "stdout"
        }
      ]
    }
  ]
}