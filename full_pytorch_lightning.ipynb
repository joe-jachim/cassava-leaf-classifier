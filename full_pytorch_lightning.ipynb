{
  "nbformat": 4,
  "nbformat_minor": 0,
  "metadata": {
    "colab": {
      "name": "Untitled5.ipynb",
      "provenance": [],
      "mount_file_id": "1UJScHe-G65bO4seur2Fbl6MY_PTlZmv0",
      "authorship_tag": "ABX9TyNKgEaQGllX1ghlcBN1iEQi",
      "include_colab_link": true
    },
    "kernelspec": {
      "name": "python3",
      "display_name": "Python 3"
    },
    "accelerator": "GPU",
    "widgets": {
      "application/vnd.jupyter.widget-state+json": {
        "9c13b669763a4674a80350337b7078dd": {
          "model_module": "@jupyter-widgets/controls",
          "model_name": "HBoxModel",
          "state": {
            "_view_name": "HBoxView",
            "_dom_classes": [],
            "_model_name": "HBoxModel",
            "_view_module": "@jupyter-widgets/controls",
            "_model_module_version": "1.5.0",
            "_view_count": null,
            "_view_module_version": "1.5.0",
            "box_style": "",
            "layout": "IPY_MODEL_875366fb0a1f46c49b003a8a4009ec4d",
            "_model_module": "@jupyter-widgets/controls",
            "children": [
              "IPY_MODEL_e75d7825725f451480938ccddb1c7411",
              "IPY_MODEL_51bc63a9417e411c80bc28852884ec43"
            ]
          }
        },
        "875366fb0a1f46c49b003a8a4009ec4d": {
          "model_module": "@jupyter-widgets/base",
          "model_name": "LayoutModel",
          "state": {
            "_view_name": "LayoutView",
            "grid_template_rows": null,
            "right": null,
            "justify_content": null,
            "_view_module": "@jupyter-widgets/base",
            "overflow": null,
            "_model_module_version": "1.2.0",
            "_view_count": null,
            "flex_flow": "row wrap",
            "width": "100%",
            "min_width": null,
            "border": null,
            "align_items": null,
            "bottom": null,
            "_model_module": "@jupyter-widgets/base",
            "top": null,
            "grid_column": null,
            "overflow_y": null,
            "overflow_x": null,
            "grid_auto_flow": null,
            "grid_area": null,
            "grid_template_columns": null,
            "flex": null,
            "_model_name": "LayoutModel",
            "justify_items": null,
            "grid_row": null,
            "max_height": null,
            "align_content": null,
            "visibility": null,
            "align_self": null,
            "height": null,
            "min_height": null,
            "padding": null,
            "grid_auto_rows": null,
            "grid_gap": null,
            "max_width": null,
            "order": null,
            "_view_module_version": "1.2.0",
            "grid_template_areas": null,
            "object_position": null,
            "object_fit": null,
            "grid_auto_columns": null,
            "margin": null,
            "display": "inline-flex",
            "left": null
          }
        },
        "e75d7825725f451480938ccddb1c7411": {
          "model_module": "@jupyter-widgets/controls",
          "model_name": "FloatProgressModel",
          "state": {
            "_view_name": "ProgressView",
            "style": "IPY_MODEL_15c59a2873df4f3fba3c67903d0d21d6",
            "_dom_classes": [],
            "description": "Validation sanity check: 100%",
            "_model_name": "FloatProgressModel",
            "bar_style": "info",
            "max": 1,
            "_view_module": "@jupyter-widgets/controls",
            "_model_module_version": "1.5.0",
            "value": 1,
            "_view_count": null,
            "_view_module_version": "1.5.0",
            "orientation": "horizontal",
            "min": 0,
            "description_tooltip": null,
            "_model_module": "@jupyter-widgets/controls",
            "layout": "IPY_MODEL_47a5f7d4dab1425eb6abe3ee845fe688"
          }
        },
        "51bc63a9417e411c80bc28852884ec43": {
          "model_module": "@jupyter-widgets/controls",
          "model_name": "HTMLModel",
          "state": {
            "_view_name": "HTMLView",
            "style": "IPY_MODEL_b6d9db2bb67c4a22b68e9ad5e5848d49",
            "_dom_classes": [],
            "description": "",
            "_model_name": "HTMLModel",
            "placeholder": "​",
            "_view_module": "@jupyter-widgets/controls",
            "_model_module_version": "1.5.0",
            "value": " 2/2 [00:13&lt;00:00,  2.59s/it]",
            "_view_count": null,
            "_view_module_version": "1.5.0",
            "description_tooltip": null,
            "_model_module": "@jupyter-widgets/controls",
            "layout": "IPY_MODEL_a081b526bc19458ab273a4be31b8f3e5"
          }
        },
        "15c59a2873df4f3fba3c67903d0d21d6": {
          "model_module": "@jupyter-widgets/controls",
          "model_name": "ProgressStyleModel",
          "state": {
            "_view_name": "StyleView",
            "_model_name": "ProgressStyleModel",
            "description_width": "initial",
            "_view_module": "@jupyter-widgets/base",
            "_model_module_version": "1.5.0",
            "_view_count": null,
            "_view_module_version": "1.2.0",
            "bar_color": null,
            "_model_module": "@jupyter-widgets/controls"
          }
        },
        "47a5f7d4dab1425eb6abe3ee845fe688": {
          "model_module": "@jupyter-widgets/base",
          "model_name": "LayoutModel",
          "state": {
            "_view_name": "LayoutView",
            "grid_template_rows": null,
            "right": null,
            "justify_content": null,
            "_view_module": "@jupyter-widgets/base",
            "overflow": null,
            "_model_module_version": "1.2.0",
            "_view_count": null,
            "flex_flow": null,
            "width": null,
            "min_width": null,
            "border": null,
            "align_items": null,
            "bottom": null,
            "_model_module": "@jupyter-widgets/base",
            "top": null,
            "grid_column": null,
            "overflow_y": null,
            "overflow_x": null,
            "grid_auto_flow": null,
            "grid_area": null,
            "grid_template_columns": null,
            "flex": "2",
            "_model_name": "LayoutModel",
            "justify_items": null,
            "grid_row": null,
            "max_height": null,
            "align_content": null,
            "visibility": null,
            "align_self": null,
            "height": null,
            "min_height": null,
            "padding": null,
            "grid_auto_rows": null,
            "grid_gap": null,
            "max_width": null,
            "order": null,
            "_view_module_version": "1.2.0",
            "grid_template_areas": null,
            "object_position": null,
            "object_fit": null,
            "grid_auto_columns": null,
            "margin": null,
            "display": null,
            "left": null
          }
        },
        "b6d9db2bb67c4a22b68e9ad5e5848d49": {
          "model_module": "@jupyter-widgets/controls",
          "model_name": "DescriptionStyleModel",
          "state": {
            "_view_name": "StyleView",
            "_model_name": "DescriptionStyleModel",
            "description_width": "",
            "_view_module": "@jupyter-widgets/base",
            "_model_module_version": "1.5.0",
            "_view_count": null,
            "_view_module_version": "1.2.0",
            "_model_module": "@jupyter-widgets/controls"
          }
        },
        "a081b526bc19458ab273a4be31b8f3e5": {
          "model_module": "@jupyter-widgets/base",
          "model_name": "LayoutModel",
          "state": {
            "_view_name": "LayoutView",
            "grid_template_rows": null,
            "right": null,
            "justify_content": null,
            "_view_module": "@jupyter-widgets/base",
            "overflow": null,
            "_model_module_version": "1.2.0",
            "_view_count": null,
            "flex_flow": null,
            "width": null,
            "min_width": null,
            "border": null,
            "align_items": null,
            "bottom": null,
            "_model_module": "@jupyter-widgets/base",
            "top": null,
            "grid_column": null,
            "overflow_y": null,
            "overflow_x": null,
            "grid_auto_flow": null,
            "grid_area": null,
            "grid_template_columns": null,
            "flex": null,
            "_model_name": "LayoutModel",
            "justify_items": null,
            "grid_row": null,
            "max_height": null,
            "align_content": null,
            "visibility": null,
            "align_self": null,
            "height": null,
            "min_height": null,
            "padding": null,
            "grid_auto_rows": null,
            "grid_gap": null,
            "max_width": null,
            "order": null,
            "_view_module_version": "1.2.0",
            "grid_template_areas": null,
            "object_position": null,
            "object_fit": null,
            "grid_auto_columns": null,
            "margin": null,
            "display": null,
            "left": null
          }
        },
        "621fd59796b047648a247a52fabb837f": {
          "model_module": "@jupyter-widgets/controls",
          "model_name": "HBoxModel",
          "state": {
            "_view_name": "HBoxView",
            "_dom_classes": [],
            "_model_name": "HBoxModel",
            "_view_module": "@jupyter-widgets/controls",
            "_model_module_version": "1.5.0",
            "_view_count": null,
            "_view_module_version": "1.5.0",
            "box_style": "",
            "layout": "IPY_MODEL_ccd6a2aafa244d10b25249722d30ac1c",
            "_model_module": "@jupyter-widgets/controls",
            "children": [
              "IPY_MODEL_68e33638b0e74f79ad42f6244172a078",
              "IPY_MODEL_e3025095b3884987ab9c0e1629d4a69a"
            ]
          }
        },
        "ccd6a2aafa244d10b25249722d30ac1c": {
          "model_module": "@jupyter-widgets/base",
          "model_name": "LayoutModel",
          "state": {
            "_view_name": "LayoutView",
            "grid_template_rows": null,
            "right": null,
            "justify_content": null,
            "_view_module": "@jupyter-widgets/base",
            "overflow": null,
            "_model_module_version": "1.2.0",
            "_view_count": null,
            "flex_flow": "row wrap",
            "width": "100%",
            "min_width": null,
            "border": null,
            "align_items": null,
            "bottom": null,
            "_model_module": "@jupyter-widgets/base",
            "top": null,
            "grid_column": null,
            "overflow_y": null,
            "overflow_x": null,
            "grid_auto_flow": null,
            "grid_area": null,
            "grid_template_columns": null,
            "flex": null,
            "_model_name": "LayoutModel",
            "justify_items": null,
            "grid_row": null,
            "max_height": null,
            "align_content": null,
            "visibility": null,
            "align_self": null,
            "height": null,
            "min_height": null,
            "padding": null,
            "grid_auto_rows": null,
            "grid_gap": null,
            "max_width": null,
            "order": null,
            "_view_module_version": "1.2.0",
            "grid_template_areas": null,
            "object_position": null,
            "object_fit": null,
            "grid_auto_columns": null,
            "margin": null,
            "display": "inline-flex",
            "left": null
          }
        },
        "68e33638b0e74f79ad42f6244172a078": {
          "model_module": "@jupyter-widgets/controls",
          "model_name": "FloatProgressModel",
          "state": {
            "_view_name": "ProgressView",
            "style": "IPY_MODEL_10d167e791d04f3f91fd8e7ee3880d02",
            "_dom_classes": [],
            "description": "Epoch 0: 100%",
            "_model_name": "FloatProgressModel",
            "bar_style": "success",
            "max": 335,
            "_view_module": "@jupyter-widgets/controls",
            "_model_module_version": "1.5.0",
            "value": 335,
            "_view_count": null,
            "_view_module_version": "1.5.0",
            "orientation": "horizontal",
            "min": 0,
            "description_tooltip": null,
            "_model_module": "@jupyter-widgets/controls",
            "layout": "IPY_MODEL_927782dd146847dca66474f04316bddc"
          }
        },
        "e3025095b3884987ab9c0e1629d4a69a": {
          "model_module": "@jupyter-widgets/controls",
          "model_name": "HTMLModel",
          "state": {
            "_view_name": "HTMLView",
            "style": "IPY_MODEL_22e98d48f3334d66b17f24c101f73cfa",
            "_dom_classes": [],
            "description": "",
            "_model_name": "HTMLModel",
            "placeholder": "​",
            "_view_module": "@jupyter-widgets/controls",
            "_model_module_version": "1.5.0",
            "value": " 335/335 [39:09&lt;00:00,  7.01s/it, loss=0.58, v_num=2, valid_loss=0.511, val_acc=0.826, train_loss=0.412]",
            "_view_count": null,
            "_view_module_version": "1.5.0",
            "description_tooltip": null,
            "_model_module": "@jupyter-widgets/controls",
            "layout": "IPY_MODEL_5264b228ba7e404db2d4bae93d7f7857"
          }
        },
        "10d167e791d04f3f91fd8e7ee3880d02": {
          "model_module": "@jupyter-widgets/controls",
          "model_name": "ProgressStyleModel",
          "state": {
            "_view_name": "StyleView",
            "_model_name": "ProgressStyleModel",
            "description_width": "initial",
            "_view_module": "@jupyter-widgets/base",
            "_model_module_version": "1.5.0",
            "_view_count": null,
            "_view_module_version": "1.2.0",
            "bar_color": null,
            "_model_module": "@jupyter-widgets/controls"
          }
        },
        "927782dd146847dca66474f04316bddc": {
          "model_module": "@jupyter-widgets/base",
          "model_name": "LayoutModel",
          "state": {
            "_view_name": "LayoutView",
            "grid_template_rows": null,
            "right": null,
            "justify_content": null,
            "_view_module": "@jupyter-widgets/base",
            "overflow": null,
            "_model_module_version": "1.2.0",
            "_view_count": null,
            "flex_flow": null,
            "width": null,
            "min_width": null,
            "border": null,
            "align_items": null,
            "bottom": null,
            "_model_module": "@jupyter-widgets/base",
            "top": null,
            "grid_column": null,
            "overflow_y": null,
            "overflow_x": null,
            "grid_auto_flow": null,
            "grid_area": null,
            "grid_template_columns": null,
            "flex": "2",
            "_model_name": "LayoutModel",
            "justify_items": null,
            "grid_row": null,
            "max_height": null,
            "align_content": null,
            "visibility": null,
            "align_self": null,
            "height": null,
            "min_height": null,
            "padding": null,
            "grid_auto_rows": null,
            "grid_gap": null,
            "max_width": null,
            "order": null,
            "_view_module_version": "1.2.0",
            "grid_template_areas": null,
            "object_position": null,
            "object_fit": null,
            "grid_auto_columns": null,
            "margin": null,
            "display": null,
            "left": null
          }
        },
        "22e98d48f3334d66b17f24c101f73cfa": {
          "model_module": "@jupyter-widgets/controls",
          "model_name": "DescriptionStyleModel",
          "state": {
            "_view_name": "StyleView",
            "_model_name": "DescriptionStyleModel",
            "description_width": "",
            "_view_module": "@jupyter-widgets/base",
            "_model_module_version": "1.5.0",
            "_view_count": null,
            "_view_module_version": "1.2.0",
            "_model_module": "@jupyter-widgets/controls"
          }
        },
        "5264b228ba7e404db2d4bae93d7f7857": {
          "model_module": "@jupyter-widgets/base",
          "model_name": "LayoutModel",
          "state": {
            "_view_name": "LayoutView",
            "grid_template_rows": null,
            "right": null,
            "justify_content": null,
            "_view_module": "@jupyter-widgets/base",
            "overflow": null,
            "_model_module_version": "1.2.0",
            "_view_count": null,
            "flex_flow": null,
            "width": null,
            "min_width": null,
            "border": null,
            "align_items": null,
            "bottom": null,
            "_model_module": "@jupyter-widgets/base",
            "top": null,
            "grid_column": null,
            "overflow_y": null,
            "overflow_x": null,
            "grid_auto_flow": null,
            "grid_area": null,
            "grid_template_columns": null,
            "flex": null,
            "_model_name": "LayoutModel",
            "justify_items": null,
            "grid_row": null,
            "max_height": null,
            "align_content": null,
            "visibility": null,
            "align_self": null,
            "height": null,
            "min_height": null,
            "padding": null,
            "grid_auto_rows": null,
            "grid_gap": null,
            "max_width": null,
            "order": null,
            "_view_module_version": "1.2.0",
            "grid_template_areas": null,
            "object_position": null,
            "object_fit": null,
            "grid_auto_columns": null,
            "margin": null,
            "display": null,
            "left": null
          }
        },
        "dbeb4bcc17344b1c8035d72d6cfe2b04": {
          "model_module": "@jupyter-widgets/controls",
          "model_name": "HBoxModel",
          "state": {
            "_view_name": "HBoxView",
            "_dom_classes": [],
            "_model_name": "HBoxModel",
            "_view_module": "@jupyter-widgets/controls",
            "_model_module_version": "1.5.0",
            "_view_count": null,
            "_view_module_version": "1.5.0",
            "box_style": "",
            "layout": "IPY_MODEL_159571c4a7264e9189de3b5787385924",
            "_model_module": "@jupyter-widgets/controls",
            "children": [
              "IPY_MODEL_70ea7c3d4fcf4e28ad24acfc7a06ee3b",
              "IPY_MODEL_9cbfb9dd3e7c4d66bb2cd9e9709dc694"
            ]
          }
        },
        "159571c4a7264e9189de3b5787385924": {
          "model_module": "@jupyter-widgets/base",
          "model_name": "LayoutModel",
          "state": {
            "_view_name": "LayoutView",
            "grid_template_rows": null,
            "right": null,
            "justify_content": null,
            "_view_module": "@jupyter-widgets/base",
            "overflow": null,
            "_model_module_version": "1.2.0",
            "_view_count": null,
            "flex_flow": "row wrap",
            "width": "100%",
            "min_width": null,
            "border": null,
            "align_items": null,
            "bottom": null,
            "_model_module": "@jupyter-widgets/base",
            "top": null,
            "grid_column": null,
            "overflow_y": null,
            "overflow_x": null,
            "grid_auto_flow": null,
            "grid_area": null,
            "grid_template_columns": null,
            "flex": null,
            "_model_name": "LayoutModel",
            "justify_items": null,
            "grid_row": null,
            "max_height": null,
            "align_content": null,
            "visibility": null,
            "align_self": null,
            "height": null,
            "min_height": null,
            "padding": null,
            "grid_auto_rows": null,
            "grid_gap": null,
            "max_width": null,
            "order": null,
            "_view_module_version": "1.2.0",
            "grid_template_areas": null,
            "object_position": null,
            "object_fit": null,
            "grid_auto_columns": null,
            "margin": null,
            "display": "inline-flex",
            "left": null
          }
        },
        "70ea7c3d4fcf4e28ad24acfc7a06ee3b": {
          "model_module": "@jupyter-widgets/controls",
          "model_name": "FloatProgressModel",
          "state": {
            "_view_name": "ProgressView",
            "style": "IPY_MODEL_ad0bb72efdaf4deea211376aa04f727f",
            "_dom_classes": [],
            "description": "Validating: 100%",
            "_model_name": "FloatProgressModel",
            "bar_style": "info",
            "max": 1,
            "_view_module": "@jupyter-widgets/controls",
            "_model_module_version": "1.5.0",
            "value": 1,
            "_view_count": null,
            "_view_module_version": "1.5.0",
            "orientation": "horizontal",
            "min": 0,
            "description_tooltip": null,
            "_model_module": "@jupyter-widgets/controls",
            "layout": "IPY_MODEL_d7d8f8bf1f1342e98626127c0092b471"
          }
        },
        "9cbfb9dd3e7c4d66bb2cd9e9709dc694": {
          "model_module": "@jupyter-widgets/controls",
          "model_name": "HTMLModel",
          "state": {
            "_view_name": "HTMLView",
            "style": "IPY_MODEL_659d32870ef34ff19fdc295b000ae268",
            "_dom_classes": [],
            "description": "",
            "_model_name": "HTMLModel",
            "placeholder": "​",
            "_view_module": "@jupyter-widgets/controls",
            "_model_module_version": "1.5.0",
            "value": " 67/67 [07:04&lt;00:00,  8.28s/it]",
            "_view_count": null,
            "_view_module_version": "1.5.0",
            "description_tooltip": null,
            "_model_module": "@jupyter-widgets/controls",
            "layout": "IPY_MODEL_e24616daaf1a41849237f2bffe734413"
          }
        },
        "ad0bb72efdaf4deea211376aa04f727f": {
          "model_module": "@jupyter-widgets/controls",
          "model_name": "ProgressStyleModel",
          "state": {
            "_view_name": "StyleView",
            "_model_name": "ProgressStyleModel",
            "description_width": "initial",
            "_view_module": "@jupyter-widgets/base",
            "_model_module_version": "1.5.0",
            "_view_count": null,
            "_view_module_version": "1.2.0",
            "bar_color": null,
            "_model_module": "@jupyter-widgets/controls"
          }
        },
        "d7d8f8bf1f1342e98626127c0092b471": {
          "model_module": "@jupyter-widgets/base",
          "model_name": "LayoutModel",
          "state": {
            "_view_name": "LayoutView",
            "grid_template_rows": null,
            "right": null,
            "justify_content": null,
            "_view_module": "@jupyter-widgets/base",
            "overflow": null,
            "_model_module_version": "1.2.0",
            "_view_count": null,
            "flex_flow": null,
            "width": null,
            "min_width": null,
            "border": null,
            "align_items": null,
            "bottom": null,
            "_model_module": "@jupyter-widgets/base",
            "top": null,
            "grid_column": null,
            "overflow_y": null,
            "overflow_x": null,
            "grid_auto_flow": null,
            "grid_area": null,
            "grid_template_columns": null,
            "flex": "2",
            "_model_name": "LayoutModel",
            "justify_items": null,
            "grid_row": null,
            "max_height": null,
            "align_content": null,
            "visibility": null,
            "align_self": null,
            "height": null,
            "min_height": null,
            "padding": null,
            "grid_auto_rows": null,
            "grid_gap": null,
            "max_width": null,
            "order": null,
            "_view_module_version": "1.2.0",
            "grid_template_areas": null,
            "object_position": null,
            "object_fit": null,
            "grid_auto_columns": null,
            "margin": null,
            "display": null,
            "left": null
          }
        },
        "659d32870ef34ff19fdc295b000ae268": {
          "model_module": "@jupyter-widgets/controls",
          "model_name": "DescriptionStyleModel",
          "state": {
            "_view_name": "StyleView",
            "_model_name": "DescriptionStyleModel",
            "description_width": "",
            "_view_module": "@jupyter-widgets/base",
            "_model_module_version": "1.5.0",
            "_view_count": null,
            "_view_module_version": "1.2.0",
            "_model_module": "@jupyter-widgets/controls"
          }
        },
        "e24616daaf1a41849237f2bffe734413": {
          "model_module": "@jupyter-widgets/base",
          "model_name": "LayoutModel",
          "state": {
            "_view_name": "LayoutView",
            "grid_template_rows": null,
            "right": null,
            "justify_content": null,
            "_view_module": "@jupyter-widgets/base",
            "overflow": null,
            "_model_module_version": "1.2.0",
            "_view_count": null,
            "flex_flow": null,
            "width": null,
            "min_width": null,
            "border": null,
            "align_items": null,
            "bottom": null,
            "_model_module": "@jupyter-widgets/base",
            "top": null,
            "grid_column": null,
            "overflow_y": null,
            "overflow_x": null,
            "grid_auto_flow": null,
            "grid_area": null,
            "grid_template_columns": null,
            "flex": null,
            "_model_name": "LayoutModel",
            "justify_items": null,
            "grid_row": null,
            "max_height": null,
            "align_content": null,
            "visibility": null,
            "align_self": null,
            "height": null,
            "min_height": null,
            "padding": null,
            "grid_auto_rows": null,
            "grid_gap": null,
            "max_width": null,
            "order": null,
            "_view_module_version": "1.2.0",
            "grid_template_areas": null,
            "object_position": null,
            "object_fit": null,
            "grid_auto_columns": null,
            "margin": null,
            "display": null,
            "left": null
          }
        }
      }
    }
  },
  "cells": [
    {
      "cell_type": "markdown",
      "metadata": {
        "id": "view-in-github",
        "colab_type": "text"
      },
      "source": [
        "<a href=\"https://colab.research.google.com/github/joe-jachim/cassava-leaf-classifier/blob/main/full_pytorch_lightning.ipynb\" target=\"_parent\"><img src=\"https://colab.research.google.com/assets/colab-badge.svg\" alt=\"Open In Colab\"/></a>"
      ]
    },
    {
      "cell_type": "code",
      "metadata": {
        "colab": {
          "base_uri": "https://localhost:8080/"
        },
        "id": "A2MSLoiPL71Y",
        "outputId": "15db97ed-010c-49a1-86c2-578ee6ccbd37"
      },
      "source": [
        "!pip install -U git+https://github.com/albu/albumentations --no-cache-dir"
      ],
      "execution_count": 1,
      "outputs": [
        {
          "output_type": "stream",
          "text": [
            "Collecting git+https://github.com/albu/albumentations\n",
            "  Cloning https://github.com/albu/albumentations to /tmp/pip-req-build-cinqrrba\n",
            "  Running command git clone -q https://github.com/albu/albumentations /tmp/pip-req-build-cinqrrba\n",
            "Requirement already satisfied, skipping upgrade: numpy>=1.11.1 in /usr/local/lib/python3.6/dist-packages (from albumentations==0.5.2) (1.19.4)\n",
            "Requirement already satisfied, skipping upgrade: scipy in /usr/local/lib/python3.6/dist-packages (from albumentations==0.5.2) (1.4.1)\n",
            "Requirement already satisfied, skipping upgrade: scikit-image>=0.16.1 in /usr/local/lib/python3.6/dist-packages (from albumentations==0.5.2) (0.16.2)\n",
            "Requirement already satisfied, skipping upgrade: imgaug>=0.4.0 in /usr/local/lib/python3.6/dist-packages (from albumentations==0.5.2) (0.4.0)\n",
            "Requirement already satisfied, skipping upgrade: PyYAML in /usr/local/lib/python3.6/dist-packages (from albumentations==0.5.2) (5.3.1)\n",
            "Requirement already satisfied, skipping upgrade: opencv-python>=4.1.1 in /usr/local/lib/python3.6/dist-packages (from albumentations==0.5.2) (4.1.2.30)\n",
            "Requirement already satisfied, skipping upgrade: pillow>=4.3.0 in /usr/local/lib/python3.6/dist-packages (from scikit-image>=0.16.1->albumentations==0.5.2) (7.0.0)\n",
            "Requirement already satisfied, skipping upgrade: imageio>=2.3.0 in /usr/local/lib/python3.6/dist-packages (from scikit-image>=0.16.1->albumentations==0.5.2) (2.4.1)\n",
            "Requirement already satisfied, skipping upgrade: PyWavelets>=0.4.0 in /usr/local/lib/python3.6/dist-packages (from scikit-image>=0.16.1->albumentations==0.5.2) (1.1.1)\n",
            "Requirement already satisfied, skipping upgrade: matplotlib!=3.0.0,>=2.0.0 in /usr/local/lib/python3.6/dist-packages (from scikit-image>=0.16.1->albumentations==0.5.2) (3.2.2)\n",
            "Requirement already satisfied, skipping upgrade: networkx>=2.0 in /usr/local/lib/python3.6/dist-packages (from scikit-image>=0.16.1->albumentations==0.5.2) (2.5)\n",
            "Requirement already satisfied, skipping upgrade: Shapely in /usr/local/lib/python3.6/dist-packages (from imgaug>=0.4.0->albumentations==0.5.2) (1.7.1)\n",
            "Requirement already satisfied, skipping upgrade: six in /usr/local/lib/python3.6/dist-packages (from imgaug>=0.4.0->albumentations==0.5.2) (1.15.0)\n",
            "Requirement already satisfied, skipping upgrade: python-dateutil>=2.1 in /usr/local/lib/python3.6/dist-packages (from matplotlib!=3.0.0,>=2.0.0->scikit-image>=0.16.1->albumentations==0.5.2) (2.8.1)\n",
            "Requirement already satisfied, skipping upgrade: cycler>=0.10 in /usr/local/lib/python3.6/dist-packages (from matplotlib!=3.0.0,>=2.0.0->scikit-image>=0.16.1->albumentations==0.5.2) (0.10.0)\n",
            "Requirement already satisfied, skipping upgrade: kiwisolver>=1.0.1 in /usr/local/lib/python3.6/dist-packages (from matplotlib!=3.0.0,>=2.0.0->scikit-image>=0.16.1->albumentations==0.5.2) (1.3.1)\n",
            "Requirement already satisfied, skipping upgrade: pyparsing!=2.0.4,!=2.1.2,!=2.1.6,>=2.0.1 in /usr/local/lib/python3.6/dist-packages (from matplotlib!=3.0.0,>=2.0.0->scikit-image>=0.16.1->albumentations==0.5.2) (2.4.7)\n",
            "Requirement already satisfied, skipping upgrade: decorator>=4.3.0 in /usr/local/lib/python3.6/dist-packages (from networkx>=2.0->scikit-image>=0.16.1->albumentations==0.5.2) (4.4.2)\n",
            "Building wheels for collected packages: albumentations\n",
            "  Building wheel for albumentations (setup.py) ... \u001b[?25l\u001b[?25hdone\n",
            "  Created wheel for albumentations: filename=albumentations-0.5.2-cp36-none-any.whl size=79946 sha256=f876052ff1e55da8240ae6fef7502ed12545bfe962aa0413367a0ee31a4821cb\n",
            "  Stored in directory: /tmp/pip-ephem-wheel-cache-n395d7rv/wheels/45/8b/e4/2837bbcf517d00732b8e394f8646f22b8723ac00993230188b\n",
            "Successfully built albumentations\n",
            "Installing collected packages: albumentations\n",
            "  Found existing installation: albumentations 0.5.2\n",
            "    Uninstalling albumentations-0.5.2:\n",
            "      Successfully uninstalled albumentations-0.5.2\n",
            "Successfully installed albumentations-0.5.2\n"
          ],
          "name": "stdout"
        }
      ]
    },
    {
      "cell_type": "code",
      "metadata": {
        "colab": {
          "base_uri": "https://localhost:8080/"
        },
        "id": "aTxbqdZxCbx6",
        "outputId": "1d92f07b-5e7b-473a-abde-abac0cfd0dbb"
      },
      "source": [
        "! pip install pytorch-lightning"
      ],
      "execution_count": 2,
      "outputs": [
        {
          "output_type": "stream",
          "text": [
            "Requirement already satisfied: pytorch-lightning in /usr/local/lib/python3.6/dist-packages (1.1.2)\n",
            "Requirement already satisfied: fsspec>=0.8.0 in /usr/local/lib/python3.6/dist-packages (from pytorch-lightning) (0.8.5)\n",
            "Requirement already satisfied: tensorboard>=2.2.0 in /usr/local/lib/python3.6/dist-packages (from pytorch-lightning) (2.4.0)\n",
            "Requirement already satisfied: torch>=1.3 in /usr/local/lib/python3.6/dist-packages (from pytorch-lightning) (1.7.0+cu101)\n",
            "Requirement already satisfied: future>=0.17.1 in /usr/local/lib/python3.6/dist-packages (from pytorch-lightning) (0.18.2)\n",
            "Requirement already satisfied: tqdm>=4.41.0 in /usr/local/lib/python3.6/dist-packages (from pytorch-lightning) (4.41.1)\n",
            "Requirement already satisfied: numpy>=1.16.6 in /usr/local/lib/python3.6/dist-packages (from pytorch-lightning) (1.19.4)\n",
            "Requirement already satisfied: PyYAML>=5.1 in /usr/local/lib/python3.6/dist-packages (from pytorch-lightning) (5.3.1)\n",
            "Requirement already satisfied: wheel>=0.26; python_version >= \"3\" in /usr/local/lib/python3.6/dist-packages (from tensorboard>=2.2.0->pytorch-lightning) (0.36.2)\n",
            "Requirement already satisfied: requests<3,>=2.21.0 in /usr/local/lib/python3.6/dist-packages (from tensorboard>=2.2.0->pytorch-lightning) (2.23.0)\n",
            "Requirement already satisfied: markdown>=2.6.8 in /usr/local/lib/python3.6/dist-packages (from tensorboard>=2.2.0->pytorch-lightning) (3.3.3)\n",
            "Requirement already satisfied: setuptools>=41.0.0 in /usr/local/lib/python3.6/dist-packages (from tensorboard>=2.2.0->pytorch-lightning) (51.0.0)\n",
            "Requirement already satisfied: google-auth<2,>=1.6.3 in /usr/local/lib/python3.6/dist-packages (from tensorboard>=2.2.0->pytorch-lightning) (1.17.2)\n",
            "Requirement already satisfied: protobuf>=3.6.0 in /usr/local/lib/python3.6/dist-packages (from tensorboard>=2.2.0->pytorch-lightning) (3.12.4)\n",
            "Requirement already satisfied: six>=1.10.0 in /usr/local/lib/python3.6/dist-packages (from tensorboard>=2.2.0->pytorch-lightning) (1.15.0)\n",
            "Requirement already satisfied: absl-py>=0.4 in /usr/local/lib/python3.6/dist-packages (from tensorboard>=2.2.0->pytorch-lightning) (0.10.0)\n",
            "Requirement already satisfied: werkzeug>=0.11.15 in /usr/local/lib/python3.6/dist-packages (from tensorboard>=2.2.0->pytorch-lightning) (1.0.1)\n",
            "Requirement already satisfied: grpcio>=1.24.3 in /usr/local/lib/python3.6/dist-packages (from tensorboard>=2.2.0->pytorch-lightning) (1.32.0)\n",
            "Requirement already satisfied: google-auth-oauthlib<0.5,>=0.4.1 in /usr/local/lib/python3.6/dist-packages (from tensorboard>=2.2.0->pytorch-lightning) (0.4.2)\n",
            "Requirement already satisfied: tensorboard-plugin-wit>=1.6.0 in /usr/local/lib/python3.6/dist-packages (from tensorboard>=2.2.0->pytorch-lightning) (1.7.0)\n",
            "Requirement already satisfied: typing-extensions in /usr/local/lib/python3.6/dist-packages (from torch>=1.3->pytorch-lightning) (3.7.4.3)\n",
            "Requirement already satisfied: dataclasses in /usr/local/lib/python3.6/dist-packages (from torch>=1.3->pytorch-lightning) (0.8)\n",
            "Requirement already satisfied: chardet<4,>=3.0.2 in /usr/local/lib/python3.6/dist-packages (from requests<3,>=2.21.0->tensorboard>=2.2.0->pytorch-lightning) (3.0.4)\n",
            "Requirement already satisfied: idna<3,>=2.5 in /usr/local/lib/python3.6/dist-packages (from requests<3,>=2.21.0->tensorboard>=2.2.0->pytorch-lightning) (2.10)\n",
            "Requirement already satisfied: urllib3!=1.25.0,!=1.25.1,<1.26,>=1.21.1 in /usr/local/lib/python3.6/dist-packages (from requests<3,>=2.21.0->tensorboard>=2.2.0->pytorch-lightning) (1.24.3)\n",
            "Requirement already satisfied: certifi>=2017.4.17 in /usr/local/lib/python3.6/dist-packages (from requests<3,>=2.21.0->tensorboard>=2.2.0->pytorch-lightning) (2020.12.5)\n",
            "Requirement already satisfied: importlib-metadata; python_version < \"3.8\" in /usr/local/lib/python3.6/dist-packages (from markdown>=2.6.8->tensorboard>=2.2.0->pytorch-lightning) (3.3.0)\n",
            "Requirement already satisfied: cachetools<5.0,>=2.0.0 in /usr/local/lib/python3.6/dist-packages (from google-auth<2,>=1.6.3->tensorboard>=2.2.0->pytorch-lightning) (4.2.0)\n",
            "Requirement already satisfied: pyasn1-modules>=0.2.1 in /usr/local/lib/python3.6/dist-packages (from google-auth<2,>=1.6.3->tensorboard>=2.2.0->pytorch-lightning) (0.2.8)\n",
            "Requirement already satisfied: rsa<5,>=3.1.4; python_version >= \"3\" in /usr/local/lib/python3.6/dist-packages (from google-auth<2,>=1.6.3->tensorboard>=2.2.0->pytorch-lightning) (4.6)\n",
            "Requirement already satisfied: requests-oauthlib>=0.7.0 in /usr/local/lib/python3.6/dist-packages (from google-auth-oauthlib<0.5,>=0.4.1->tensorboard>=2.2.0->pytorch-lightning) (1.3.0)\n",
            "Requirement already satisfied: zipp>=0.5 in /usr/local/lib/python3.6/dist-packages (from importlib-metadata; python_version < \"3.8\"->markdown>=2.6.8->tensorboard>=2.2.0->pytorch-lightning) (3.4.0)\n",
            "Requirement already satisfied: pyasn1<0.5.0,>=0.4.6 in /usr/local/lib/python3.6/dist-packages (from pyasn1-modules>=0.2.1->google-auth<2,>=1.6.3->tensorboard>=2.2.0->pytorch-lightning) (0.4.8)\n",
            "Requirement already satisfied: oauthlib>=3.0.0 in /usr/local/lib/python3.6/dist-packages (from requests-oauthlib>=0.7.0->google-auth-oauthlib<0.5,>=0.4.1->tensorboard>=2.2.0->pytorch-lightning) (3.1.0)\n"
          ],
          "name": "stdout"
        }
      ]
    },
    {
      "cell_type": "code",
      "metadata": {
        "colab": {
          "base_uri": "https://localhost:8080/",
          "height": 17
        },
        "id": "Fwzby0NEConY",
        "outputId": "04f8d5a3-75fb-4ad5-95d6-bb15e0f02394"
      },
      "source": [
        "%%javascript\r\n",
        "function ClickConnect(){\r\n",
        "console.log(\"Working\");\r\n",
        "document.querySelector(\"colab-toolbar-button#connect\").click()\r\n",
        "}setInterval(ClickConnect,60000)"
      ],
      "execution_count": 3,
      "outputs": [
        {
          "output_type": "display_data",
          "data": {
            "application/javascript": [
              "function ClickConnect(){\n",
              "console.log(\"Working\");\n",
              "document.querySelector(\"colab-toolbar-button#connect\").click()\n",
              "}setInterval(ClickConnect,60000)"
            ],
            "text/plain": [
              "<IPython.core.display.Javascript object>"
            ]
          },
          "metadata": {
            "tags": []
          }
        }
      ]
    },
    {
      "cell_type": "code",
      "metadata": {
        "colab": {
          "base_uri": "https://localhost:8080/"
        },
        "id": "qEogyIrFDXPQ",
        "outputId": "3598335c-d3b5-4c7f-c33b-090aa456cedd"
      },
      "source": [
        "! pip install geffnet"
      ],
      "execution_count": 4,
      "outputs": [
        {
          "output_type": "stream",
          "text": [
            "Requirement already satisfied: geffnet in /usr/local/lib/python3.6/dist-packages (1.0.0)\n",
            "Requirement already satisfied: torch>=1.4 in /usr/local/lib/python3.6/dist-packages (from geffnet) (1.7.0+cu101)\n",
            "Requirement already satisfied: torchvision in /usr/local/lib/python3.6/dist-packages (from geffnet) (0.8.1+cu101)\n",
            "Requirement already satisfied: dataclasses in /usr/local/lib/python3.6/dist-packages (from torch>=1.4->geffnet) (0.8)\n",
            "Requirement already satisfied: typing-extensions in /usr/local/lib/python3.6/dist-packages (from torch>=1.4->geffnet) (3.7.4.3)\n",
            "Requirement already satisfied: numpy in /usr/local/lib/python3.6/dist-packages (from torch>=1.4->geffnet) (1.19.4)\n",
            "Requirement already satisfied: future in /usr/local/lib/python3.6/dist-packages (from torch>=1.4->geffnet) (0.18.2)\n",
            "Requirement already satisfied: pillow>=4.1.1 in /usr/local/lib/python3.6/dist-packages (from torchvision->geffnet) (7.0.0)\n"
          ],
          "name": "stdout"
        }
      ]
    },
    {
      "cell_type": "code",
      "metadata": {
        "id": "hq069NA3CVfr"
      },
      "source": [
        "import numpy as np # linear algebra\r\n",
        "import pandas as pd # data processing, CSV file I/O (e.g. pd.read_csv)\r\n",
        "import os\r\n",
        "import sys\r\n",
        "from typing import Tuple\r\n",
        "import PIL\r\n",
        "from torch.utils.data import Dataset\r\n",
        "from pathlib import Path\r\n",
        "from PIL import Image\r\n",
        "from PIL.Image import Image as PILImage\r\n",
        "from torch.utils.data.dataloader import DataLoader\r\n",
        "import numpy as np\r\n",
        "import pandas as pd\r\n",
        "from pytorch_lightning import LightningDataModule\r\n",
        "from sklearn.model_selection import train_test_split, StratifiedKFold\r\n",
        "import albumentations as A\r\n",
        "from albumentations.pytorch.transforms import ToTensor\r\n",
        "\r\n",
        "from torchvision import models\r\n",
        "import torch.nn as nn\r\n",
        "import torch\r\n",
        "import torch.nn.functional as F\r\n",
        "import pytorch_lightning as pl\r\n",
        "from torch import optim\r\n",
        "from pytorch_lightning.callbacks import LearningRateMonitor, ModelCheckpoint\r\n",
        "\r\n",
        "sys.path.append('../input/geneffnet/gen-efficientnet-pytorch-master')\r\n",
        "\r\n",
        "import geffnet\r\n",
        "\r\n",
        "path = Path(\"drive/MyDrive/data/cassava-leaf-disease-classification/\")"
      ],
      "execution_count": 5,
      "outputs": []
    },
    {
      "cell_type": "code",
      "metadata": {
        "id": "Fov6iJiuDq3A"
      },
      "source": [
        "class CassavaDataset(Dataset):\r\n",
        "    def __init__(self, path, df, transform=None) -> None:\r\n",
        "        super().__init__()\r\n",
        "        self.df = df\r\n",
        "        self.path = path\r\n",
        "        self.transform = transform\r\n",
        "        self.num_workers = 2\r\n",
        "\r\n",
        "    def __getitem__(self, index) -> Tuple[PILImage, int]:\r\n",
        "        img_id, label = self.df.iloc[index]\r\n",
        "        image = Image.open(self.path / img_id)\r\n",
        "        image = np.array(image)\r\n",
        "        if self.transform is not None:\r\n",
        "            transformed = self.transform(image=image)\r\n",
        "            image = transformed[\"image\"]\r\n",
        "        return image, label\r\n",
        "\r\n",
        "    def __len__(self):\r\n",
        "        return self.df.shape[0]"
      ],
      "execution_count": 6,
      "outputs": []
    },
    {
      "cell_type": "code",
      "metadata": {
        "id": "-qTJ2wVfKU_R"
      },
      "source": [
        "class CassavaDataModule(LightningDataModule):\r\n",
        "    def __init__(\r\n",
        "        self,\r\n",
        "        path: str = None,\r\n",
        "        aug_p: float = 0.5,\r\n",
        "        val_pct: float = 0.2,\r\n",
        "        img_sz: int = 224,\r\n",
        "        batch_size: int = 64,\r\n",
        "        num_workers: int = 4,\r\n",
        "        fold_id: int = 0,\r\n",
        "    ):\r\n",
        "        super().__init__()\r\n",
        "        self.path = Path(path)\r\n",
        "        self.aug_p = aug_p\r\n",
        "        self.val_pct = val_pct\r\n",
        "        self.img_sz = img_sz\r\n",
        "        self.batch_size = batch_size\r\n",
        "        self.num_workers = num_workers\r\n",
        "        self.fold_id = fold_id\r\n",
        "\r\n",
        "    def prepare_data(self):\r\n",
        "        # only called on 1 GPU/TPU in distributed\r\n",
        "        df = pd.read_csv(self.path / \"train.csv\")\r\n",
        "        skf = StratifiedKFold(n_splits=5)\r\n",
        "        t = df.label\r\n",
        "        train_index, valid_index = list(skf.split(np.zeros(len(t)), t))[self.fold_id]\r\n",
        "        train_df = df.loc[train_index]\r\n",
        "        valid_df = df.loc[valid_index]\r\n",
        "\r\n",
        "        train_df.to_pickle(\"train_df.pkl\")\r\n",
        "        valid_df.to_pickle(\"valid_df.pkl\")\r\n",
        "\r\n",
        "    def setup(self):\r\n",
        "        # called on every process in DDP\r\n",
        "        self.train_transform, self.test_transform = get_augmentations(\r\n",
        "            p=self.aug_p, image_size=self.img_sz\r\n",
        "        )\r\n",
        "        self.train_df = pd.read_pickle(\"train_df.pkl\")\r\n",
        "        self.valid_df = pd.read_pickle(\"valid_df.pkl\")\r\n",
        "\r\n",
        "    def train_dataloader(self):\r\n",
        "        train_dataset = CassavaDataset(\r\n",
        "            self.path / \"train_images\", df=self.train_df, transform=self.train_transform\r\n",
        "        )\r\n",
        "        return DataLoader(\r\n",
        "            train_dataset,\r\n",
        "            batch_size=self.batch_size,\r\n",
        "            num_workers=self.num_workers,\r\n",
        "            shuffle=True,\r\n",
        "            pin_memory=True,\r\n",
        "        )\r\n",
        "\r\n",
        "    def val_dataloader(self):\r\n",
        "        valid_dataset = CassavaDataset(\r\n",
        "            self.path / \"train_images\", df=self.valid_df, transform=self.test_transform\r\n",
        "        )\r\n",
        "        return DataLoader(\r\n",
        "            valid_dataset,\r\n",
        "            batch_size=self.batch_size,\r\n",
        "            num_workers=self.num_workers,\r\n",
        "            shuffle=False,\r\n",
        "            pin_memory=True,\r\n",
        "        )"
      ],
      "execution_count": 7,
      "outputs": []
    },
    {
      "cell_type": "code",
      "metadata": {
        "id": "eC-BRGNjKXH_"
      },
      "source": [
        "df = pd.read_csv(path/'train.csv')\r\n",
        "ds = CassavaDataset(path/'train_images',df=df)"
      ],
      "execution_count": 8,
      "outputs": []
    },
    {
      "cell_type": "code",
      "metadata": {
        "colab": {
          "base_uri": "https://localhost:8080/"
        },
        "id": "0jUasBJGLEVn",
        "outputId": "2c3d9309-9972-459f-c5b2-f43705c1c2f5"
      },
      "source": [
        "ds.path"
      ],
      "execution_count": 9,
      "outputs": [
        {
          "output_type": "execute_result",
          "data": {
            "text/plain": [
              "PosixPath('drive/MyDrive/data/cassava-leaf-disease-classification/train_images')"
            ]
          },
          "metadata": {
            "tags": []
          },
          "execution_count": 9
        }
      ]
    },
    {
      "cell_type": "code",
      "metadata": {
        "id": "3H4qP1LSLCLN"
      },
      "source": [
        "def get_augmentations(p=0.5, image_size=224):\r\n",
        "    imagenet_stats = {\"mean\": [0.485, 0.456, 0.406], \"std\": [0.229, 0.224, 0.225]}\r\n",
        "    train_tfms = A.Compose(\r\n",
        "        [\r\n",
        "            # A.Resize(image_size, image_size),\r\n",
        "            A.RandomResizedCrop(image_size, image_size),\r\n",
        "            A.ShiftScaleRotate(shift_limit=0.15, scale_limit=0.4, rotate_limit=45, p=p),\r\n",
        "            A.Cutout(p=p),\r\n",
        "            A.RandomRotate90(p=p),\r\n",
        "            A.Flip(p=p),\r\n",
        "            A.OneOf(\r\n",
        "                [\r\n",
        "                    A.RandomBrightnessContrast(\r\n",
        "                        brightness_limit=0.2,\r\n",
        "                        contrast_limit=0.2,\r\n",
        "                    ),\r\n",
        "                    A.HueSaturationValue(\r\n",
        "                        hue_shift_limit=20, sat_shift_limit=50, val_shift_limit=50\r\n",
        "                    ),\r\n",
        "                ],\r\n",
        "                p=p,\r\n",
        "            ),\r\n",
        "            A.OneOf(\r\n",
        "                [\r\n",
        "                    A.IAAAdditiveGaussianNoise(),\r\n",
        "                    A.GaussNoise(),\r\n",
        "                ],\r\n",
        "                p=p,\r\n",
        "            ),\r\n",
        "            A.CoarseDropout(max_holes=10, p=p),\r\n",
        "            A.OneOf(\r\n",
        "                [\r\n",
        "                    A.MotionBlur(p=0.2),\r\n",
        "                    A.MedianBlur(blur_limit=3, p=0.1),\r\n",
        "                    A.Blur(blur_limit=3, p=0.1),\r\n",
        "                ],\r\n",
        "                p=p,\r\n",
        "            ),\r\n",
        "            A.OneOf(\r\n",
        "                [\r\n",
        "                    A.OpticalDistortion(p=0.3),\r\n",
        "                    A.GridDistortion(p=0.1),\r\n",
        "                    A.IAAPiecewiseAffine(p=0.3),\r\n",
        "                ],\r\n",
        "                p=p,\r\n",
        "            ),\r\n",
        "            ToTensor(normalize=imagenet_stats),\r\n",
        "        ]\r\n",
        "    )\r\n",
        "\r\n",
        "    valid_tfms = A.Compose(\r\n",
        "        [A.CenterCrop(image_size, image_size), ToTensor(normalize=imagenet_stats)]\r\n",
        "    )\r\n",
        "\r\n",
        "    return train_tfms, valid_tfms"
      ],
      "execution_count": 10,
      "outputs": []
    },
    {
      "cell_type": "code",
      "metadata": {
        "id": "xKzIo_huLXVH"
      },
      "source": [
        "ssl_models = [\r\n",
        "    \"resnet18_ssl\",\r\n",
        "    \"resnet50_ssl\",\r\n",
        "    \"resnext50_32x4d_ssl\",\r\n",
        "    \"resnext101_32x4d_ssl\",\r\n",
        "    \"resnext101_32x8d_ssl\",\r\n",
        "    \"resnext101_32x16d_ssl\",\r\n",
        "]\r\n",
        "\r\n",
        "class Resnext(nn.Module):\r\n",
        "    def __init__(\r\n",
        "        self,\r\n",
        "        model_name=\"resnet18_ssl\",\r\n",
        "        pool_type=F.adaptive_avg_pool2d,\r\n",
        "        num_classes=1000,\r\n",
        "        kaggle=False,\r\n",
        "    ):\r\n",
        "        super().__init__()\r\n",
        "        self.pool_type = pool_type\r\n",
        "\r\n",
        "        if kaggle:\r\n",
        "            backbone = eval(model_name)()\r\n",
        "        else:\r\n",
        "            backbone = torch.hub.load(\r\n",
        "                \"facebookresearch/semi-supervised-ImageNet1K-models\", model_name\r\n",
        "            )\r\n",
        "        list(backbone.children())[:-2]\r\n",
        "        self.backbone = nn.Sequential(*list(backbone.children())[:-2])\r\n",
        "        in_features = getattr(backbone, \"fc\").in_features\r\n",
        "        self.classifier = nn.Linear(in_features, num_classes)\r\n",
        "\r\n",
        "    def forward(self, x):\r\n",
        "        features = self.pool_type(self.backbone(x), 1)\r\n",
        "        features = features.view(x.size(0), -1)\r\n",
        "        return self.classifier(features)\r\n",
        "\r\n",
        "\r\n",
        "def get_efficientnet(model_name, pretrained=True, num_classes=5):\r\n",
        "    model = geffnet.create_model(model_name, pretrained=pretrained)\r\n",
        "    model.classifier = nn.Linear(model.classifier.in_features, num_classes)\r\n",
        "    return model"
      ],
      "execution_count": 11,
      "outputs": []
    },
    {
      "cell_type": "code",
      "metadata": {
        "id": "OXrEEl88LbYn"
      },
      "source": [
        "class CassavaModel(pl.LightningModule):\r\n",
        "    def __init__(\r\n",
        "        self,\r\n",
        "        model_name: str = None,\r\n",
        "        num_classes: int = None,\r\n",
        "        data_path: Path = None,\r\n",
        "        loss_fn=F.cross_entropy,\r\n",
        "        lr=1e-4,\r\n",
        "        wd=1e-6,\r\n",
        "    ):\r\n",
        "        super().__init__()\r\n",
        "\r\n",
        "        if model_name.find(\"res\") > -1:\r\n",
        "            self.model = Resnext(model_name=model_name, num_classes=num_classes)\r\n",
        "        elif model_name.find(\"effi\") > -1:\r\n",
        "            self.model = get_efficientnet(model_name)\r\n",
        "        self.data_path = data_path\r\n",
        "        self.loss_fn = loss_fn\r\n",
        "        self.lr = lr\r\n",
        "        self.accuracy = pl.metrics.Accuracy()\r\n",
        "        self.wd = wd\r\n",
        "\r\n",
        "    def forward(self, x):\r\n",
        "        return self.model(x)\r\n",
        "\r\n",
        "    def training_step(self, batch, batch_idx):\r\n",
        "        x, y = batch\r\n",
        "        y_hat = self(x)\r\n",
        "        loss = self.loss_fn(y_hat, y)\r\n",
        "        self.log(\"train_loss\", loss, prog_bar=True)\r\n",
        "        return loss\r\n",
        "\r\n",
        "    def validation_step(self, batch, batch_idx):\r\n",
        "        x, y = batch\r\n",
        "        y_hat = self(x)\r\n",
        "        loss = self.loss_fn(y_hat, y)\r\n",
        "        self.log(\"valid_loss\", loss, prog_bar=True)\r\n",
        "        self.log(\"val_acc\", self.accuracy(y_hat, y), prog_bar=True)\r\n",
        "\r\n",
        "    def configure_optimizers(self):\r\n",
        "        optimizer = optim.AdamW(\r\n",
        "            self.model.parameters(), lr=self.lr, weight_decay=self.wd\r\n",
        "        )\r\n",
        "        scheduler = optim.lr_scheduler.CosineAnnealingLR(\r\n",
        "            optimizer, self.trainer.max_epochs, 0\r\n",
        "        )\r\n",
        "\r\n",
        "        return [optimizer], [scheduler]"
      ],
      "execution_count": 12,
      "outputs": []
    },
    {
      "cell_type": "code",
      "metadata": {
        "id": "qoifZdB-L3fW"
      },
      "source": [
        "fold_id = 0\r\n",
        "aug_p = 0.5\r\n",
        "img_sz= 224\r\n",
        "batch_size = 64\r\n",
        "num_workers = 4\r\n",
        "num_classes = 5\r\n",
        "loss_fn = F.cross_entropy\r\n",
        "lr = 1e-4\r\n",
        "epochs = 1\r\n",
        "gradient_clip_val = 0.1\r\n",
        "precision = 16\r\n",
        "model_name=ssl_models[2]"
      ],
      "execution_count": 13,
      "outputs": []
    },
    {
      "cell_type": "code",
      "metadata": {
        "id": "p_7eMIC9L5UK"
      },
      "source": [
        "data_module = CassavaDataModule(\r\n",
        "    path=path,\r\n",
        "    aug_p=aug_p,\r\n",
        "    img_sz=img_sz,\r\n",
        "    batch_size=batch_size,\r\n",
        "    num_workers=num_workers,\r\n",
        "    fold_id=fold_id,\r\n",
        ")\r\n",
        "data_module.prepare_data()\r\n",
        "data_module.setup()"
      ],
      "execution_count": 14,
      "outputs": []
    },
    {
      "cell_type": "code",
      "metadata": {
        "colab": {
          "base_uri": "https://localhost:8080/"
        },
        "id": "NNC-dzvuMc-Z",
        "outputId": "44bde534-c51d-45c0-ddb0-1462d72a7977"
      },
      "source": [
        "model = CassavaModel(\r\n",
        "    model_name=model_name,\r\n",
        "    num_classes=num_classes,\r\n",
        "    data_path=path,\r\n",
        "    lr=lr,\r\n",
        "    loss_fn=loss_fn,\r\n",
        ")"
      ],
      "execution_count": 15,
      "outputs": [
        {
          "output_type": "stream",
          "text": [
            "Using cache found in /root/.cache/torch/hub/facebookresearch_semi-supervised-ImageNet1K-models_master\n"
          ],
          "name": "stderr"
        }
      ]
    },
    {
      "cell_type": "code",
      "metadata": {
        "colab": {
          "base_uri": "https://localhost:8080/"
        },
        "id": "t9ENzI0JMjGe",
        "outputId": "672bc525-9588-4f72-f2f4-4e6e769c2391"
      },
      "source": [
        "!mkdir drive/MyDrive/data/cassava-leaf-disease-classification/weights"
      ],
      "execution_count": 16,
      "outputs": [
        {
          "output_type": "stream",
          "text": [
            "mkdir: cannot create directory ‘drive/MyDrive/data/cassava-leaf-disease-classification/weights’: File exists\n"
          ],
          "name": "stdout"
        }
      ]
    },
    {
      "cell_type": "code",
      "metadata": {
        "colab": {
          "base_uri": "https://localhost:8080/",
          "height": 375,
          "referenced_widgets": [
            "9c13b669763a4674a80350337b7078dd",
            "875366fb0a1f46c49b003a8a4009ec4d",
            "e75d7825725f451480938ccddb1c7411",
            "51bc63a9417e411c80bc28852884ec43",
            "15c59a2873df4f3fba3c67903d0d21d6",
            "47a5f7d4dab1425eb6abe3ee845fe688",
            "b6d9db2bb67c4a22b68e9ad5e5848d49",
            "a081b526bc19458ab273a4be31b8f3e5",
            "621fd59796b047648a247a52fabb837f",
            "ccd6a2aafa244d10b25249722d30ac1c",
            "68e33638b0e74f79ad42f6244172a078",
            "e3025095b3884987ab9c0e1629d4a69a",
            "10d167e791d04f3f91fd8e7ee3880d02",
            "927782dd146847dca66474f04316bddc",
            "22e98d48f3334d66b17f24c101f73cfa",
            "5264b228ba7e404db2d4bae93d7f7857",
            "dbeb4bcc17344b1c8035d72d6cfe2b04",
            "159571c4a7264e9189de3b5787385924",
            "70ea7c3d4fcf4e28ad24acfc7a06ee3b",
            "9cbfb9dd3e7c4d66bb2cd9e9709dc694",
            "ad0bb72efdaf4deea211376aa04f727f",
            "d7d8f8bf1f1342e98626127c0092b471",
            "659d32870ef34ff19fdc295b000ae268",
            "e24616daaf1a41849237f2bffe734413"
          ]
        },
        "id": "yufyfKPWMyzW",
        "outputId": "c6557394-3531-448d-a956-d8b5210592cf"
      },
      "source": [
        "weights_path = Path(f\"drive/MyDrive/data/cassava-leaf-disease-classification/weights\")\r\n",
        "\r\n",
        "checkpoint_callback = ModelCheckpoint(\r\n",
        "    dirpath=weights_path,\r\n",
        "    save_weights_only=True,\r\n",
        "    monitor=\"val_acc\",\r\n",
        "    mode=\"max\",\r\n",
        "    save_last=True,\r\n",
        "    filename=f\"{fold_id}\",\r\n",
        ")\r\n",
        "trainer = pl.Trainer(\r\n",
        "    gpus=1,\r\n",
        "    callbacks=[checkpoint_callback],\r\n",
        "    max_epochs=epochs,\r\n",
        "    gradient_clip_val=gradient_clip_val,\r\n",
        "    precision=precision\r\n",
        "   )\r\n",
        "\r\n",
        "trainer.fit(model=model, datamodule=data_module)"
      ],
      "execution_count": 18,
      "outputs": [
        {
          "output_type": "stream",
          "text": [
            "/usr/local/lib/python3.6/dist-packages/pytorch_lightning/utilities/distributed.py:49: UserWarning: You have set progress_bar_refresh_rate < 20 on Google Colab. This may crash. Consider using progress_bar_refresh_rate >= 20 in Trainer.\n",
            "  warnings.warn(*args, **kwargs)\n",
            "GPU available: True, used: True\n",
            "TPU available: None, using: 0 TPU cores\n",
            "LOCAL_RANK: 0 - CUDA_VISIBLE_DEVICES: [0]\n",
            "Using native 16bit precision.\n",
            "\n",
            "  | Name     | Type     | Params\n",
            "--------------------------------------\n",
            "0 | model    | Resnext  | 23.0 M\n",
            "1 | accuracy | Accuracy | 0     \n",
            "--------------------------------------\n",
            "23.0 M    Trainable params\n",
            "0         Non-trainable params\n",
            "23.0 M    Total params\n"
          ],
          "name": "stderr"
        },
        {
          "output_type": "display_data",
          "data": {
            "application/vnd.jupyter.widget-view+json": {
              "model_id": "9c13b669763a4674a80350337b7078dd",
              "version_minor": 0,
              "version_major": 2
            },
            "text/plain": [
              "HBox(children=(FloatProgress(value=1.0, bar_style='info', description='Validation sanity check', layout=Layout…"
            ]
          },
          "metadata": {
            "tags": []
          }
        },
        {
          "output_type": "stream",
          "text": [
            "\r"
          ],
          "name": "stdout"
        },
        {
          "output_type": "display_data",
          "data": {
            "application/vnd.jupyter.widget-view+json": {
              "model_id": "621fd59796b047648a247a52fabb837f",
              "version_minor": 0,
              "version_major": 2
            },
            "text/plain": [
              "HBox(children=(FloatProgress(value=1.0, bar_style='info', description='Training', layout=Layout(flex='2'), max…"
            ]
          },
          "metadata": {
            "tags": []
          }
        },
        {
          "output_type": "display_data",
          "data": {
            "application/vnd.jupyter.widget-view+json": {
              "model_id": "dbeb4bcc17344b1c8035d72d6cfe2b04",
              "version_minor": 0,
              "version_major": 2
            },
            "text/plain": [
              "HBox(children=(FloatProgress(value=1.0, bar_style='info', description='Validating', layout=Layout(flex='2'), m…"
            ]
          },
          "metadata": {
            "tags": []
          }
        },
        {
          "output_type": "stream",
          "text": [
            "Saving latest checkpoint...\n"
          ],
          "name": "stderr"
        },
        {
          "output_type": "stream",
          "text": [
            "\n"
          ],
          "name": "stdout"
        },
        {
          "output_type": "execute_result",
          "data": {
            "text/plain": [
              "1"
            ]
          },
          "metadata": {
            "tags": []
          },
          "execution_count": 18
        }
      ]
    }
  ]
}