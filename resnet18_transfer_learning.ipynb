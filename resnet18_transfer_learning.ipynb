{
  "nbformat": 4,
  "nbformat_minor": 0,
  "metadata": {
    "colab": {
      "name": "Untitled7.ipynb",
      "provenance": [],
      "authorship_tag": "ABX9TyPxVkg/uPpjHbyMsIcWqgrn",
      "include_colab_link": true
    },
    "kernelspec": {
      "name": "python3",
      "display_name": "Python 3"
    },
    "accelerator": "GPU"
  },
  "cells": [
    {
      "cell_type": "markdown",
      "metadata": {
        "id": "view-in-github",
        "colab_type": "text"
      },
      "source": [
        "<a href=\"https://colab.research.google.com/github/joe-jachim/cassava-leaf-classifier/blob/main/resnet18_transfer_learning.ipynb\" target=\"_parent\"><img src=\"https://colab.research.google.com/assets/colab-badge.svg\" alt=\"Open In Colab\"/></a>"
      ]
    },
    {
      "cell_type": "code",
      "metadata": {
        "id": "FpX7D9EB0AP_"
      },
      "source": [
        "import os\r\n",
        "os.environ['CUDA_LAUNCH_BLOCKING'] = \"1\"\r\n",
        "\r\n",
        "from __future__ import print_function, division\r\n",
        "\r\n",
        "import torch\r\n",
        "import torch.nn as nn\r\n",
        "import torch.optim as optim\r\n",
        "from torch.optim import lr_scheduler\r\n",
        "import numpy as np\r\n",
        "import torchvision\r\n",
        "from torchvision import datasets, models, transforms\r\n",
        "import matplotlib.pyplot as plt\r\n",
        "import time\r\n",
        "\r\n",
        "import copy\r\n",
        "\r\n",
        "plt.ion()   # interactive mode"
      ],
      "execution_count": null,
      "outputs": []
    },
    {
      "cell_type": "code",
      "metadata": {
        "id": "CeHU6huS0Gg-"
      },
      "source": [
        "# Load dataset and split\r\n",
        "\r\n",
        "dataset = datasets.ImageFolder('drive/MyDrive/data/cassava-leaf-disease-classification/train')\r\n",
        "train_size = int(0.8 * len(dataset))\r\n",
        "test_size = len(dataset) - train_size\r\n",
        "train_dataset, test_dataset = torch.utils.data.random_split(dataset, [train_size, test_size])"
      ],
      "execution_count": null,
      "outputs": []
    },
    {
      "cell_type": "code",
      "metadata": {
        "id": "u_GfOYDO0H1T"
      },
      "source": [
        "# Data augmentation and normalization for training\r\n",
        "# Just normalization for validation\r\n",
        "\r\n",
        "train_dataset.dataset.transform = transforms.Compose([\r\n",
        "              transforms.Resize(256),\r\n",
        "              transforms.RandomResizedCrop(224),\r\n",
        "              transforms.RandomHorizontalFlip(),\r\n",
        "              transforms.ToTensor(),\r\n",
        "              transforms.Normalize([0.485, 0.456, 0.406], [0.229, 0.224, 0.225])\r\n",
        "            ])\r\n",
        "\r\n",
        "test_dataset.dataset.transform = transforms.Compose([\r\n",
        "              transforms.Resize(256),\r\n",
        "              transforms.CenterCrop(224),\r\n",
        "              transforms.ToTensor(),\r\n",
        "              transforms.Normalize([0.485, 0.456, 0.406], [0.229, 0.224, 0.225])\r\n",
        "            ])"
      ],
      "execution_count": null,
      "outputs": []
    },
    {
      "cell_type": "code",
      "metadata": {
        "id": "xZ30ZAeO0Jht"
      },
      "source": [
        "train_dataloader = torch.utils.data.DataLoader(train_dataset, batch_size=4, shuffle=True, num_workers=4)\r\n",
        "test_dataloader = torch.utils.data.DataLoader(test_dataset, batch_size=4, shuffle=True, num_workers=4)\r\n",
        "\r\n",
        "dataset_sizes = {\r\n",
        "    'train': len(train_dataset),\r\n",
        "    'test': len(test_dataset)\r\n",
        "}\r\n",
        "class_names = train_dataset.classes\r\n",
        "\r\n",
        "dataloaders = {'train': train_dataloader, 'val': test_dataloader}\r\n",
        "\r\n",
        "device = torch.device(\"cuda:0\" if torch.cuda.is_available() else \"cpu\")"
      ],
      "execution_count": null,
      "outputs": []
    },
    {
      "cell_type": "code",
      "metadata": {
        "id": "cgMVlfaD0LHh"
      },
      "source": [
        "def imshow(inp, title=None):\r\n",
        "    \"\"\"Imshow for Tensor.\"\"\"\r\n",
        "    inp = inp.numpy().transpose((1, 2, 0))\r\n",
        "    mean = np.array([0.485, 0.456, 0.406])\r\n",
        "    std = np.array([0.229, 0.224, 0.225])\r\n",
        "    inp = std * inp + mean\r\n",
        "    inp = np.clip(inp, 0, 1)\r\n",
        "    plt.imshow(inp)\r\n",
        "    if title is not None:\r\n",
        "        plt.title(title)\r\n",
        "    plt.pause(0.001)  # pause a bit so that plots are updated\r\n",
        "\r\n",
        "\r\n",
        "# Get a batch of training data\r\n",
        "inputs, classes = next(iter(train_dataloader))\r\n",
        "\r\n",
        "# Make a grid from batch\r\n",
        "out = torchvision.utils.make_grid(inputs)\r\n",
        "\r\n",
        "imshow(out, title=[class_names[x] for x in classes])"
      ],
      "execution_count": null,
      "outputs": []
    },
    {
      "cell_type": "code",
      "metadata": {
        "id": "8t54tH5i0Rs0"
      },
      "source": [
        "def train_model(model, criterion, optimizer, scheduler, num_epochs=25):\r\n",
        "    since = time.time()\r\n",
        "\r\n",
        "    best_model_wts = copy.deepcopy(model.state_dict())\r\n",
        "    best_acc = 0.0\r\n",
        "\r\n",
        "    for epoch in range(num_epochs):\r\n",
        "        print('Epoch {}/{}'.format(epoch, num_epochs - 1))\r\n",
        "        print('-' * 10)\r\n",
        "\r\n",
        "        # Each epoch has a training and validation phase\r\n",
        "        for phase in ['train', 'val']:\r\n",
        "            if phase == 'train':\r\n",
        "                model.train()  # Set model to training mode\r\n",
        "            else:\r\n",
        "                model.eval()   # Set model to evaluate mode\r\n",
        "\r\n",
        "            running_loss = 0.0\r\n",
        "            running_corrects = 0\r\n",
        "\r\n",
        "            # Iterate over data.\r\n",
        "            for inputs, labels in dataloaders[phase]:\r\n",
        "                inputs = inputs.to(device)\r\n",
        "                labels = labels.to(device)\r\n",
        "\r\n",
        "                # zero the parameter gradients\r\n",
        "                optimizer.zero_grad()\r\n",
        "\r\n",
        "                # forward\r\n",
        "                # track history if only in train\r\n",
        "                with torch.set_grad_enabled(phase == 'train'):\r\n",
        "                    outputs = model(inputs)\r\n",
        "                    _, preds = torch.max(outputs, 1)\r\n",
        "                    loss = criterion(outputs, labels)\r\n",
        "\r\n",
        "                    # backward + optimize only if in training phase\r\n",
        "                    if phase == 'train':\r\n",
        "                        loss.backward()\r\n",
        "                        optimizer.step()\r\n",
        "\r\n",
        "                # statistics\r\n",
        "                running_loss += loss.item() * inputs.size(0)\r\n",
        "                running_corrects += torch.sum(preds == labels.data)\r\n",
        "            if phase == 'train':\r\n",
        "                scheduler.step()\r\n",
        "\r\n",
        "            epoch_loss = running_loss / dataset_sizes[phase]\r\n",
        "            epoch_acc = running_corrects.double() / dataset_sizes[phase]\r\n",
        "\r\n",
        "            print('{} Loss: {:.4f} Acc: {:.4f}'.format(\r\n",
        "                phase, epoch_loss, epoch_acc))\r\n",
        "\r\n",
        "            # deep copy the model\r\n",
        "            if phase == 'val' and epoch_acc > best_acc:\r\n",
        "                best_acc = epoch_acc\r\n",
        "                best_model_wts = copy.deepcopy(model.state_dict())\r\n",
        "\r\n",
        "        print()\r\n",
        "\r\n",
        "    time_elapsed = time.time() - since\r\n",
        "    print('Training complete in {:.0f}m {:.0f}s'.format(\r\n",
        "        time_elapsed // 60, time_elapsed % 60))\r\n",
        "    print('Best val Acc: {:4f}'.format(best_acc))\r\n",
        "\r\n",
        "    # load best model weights\r\n",
        "    model.load_state_dict(best_model_wts)\r\n",
        "    return model"
      ],
      "execution_count": null,
      "outputs": []
    },
    {
      "cell_type": "code",
      "metadata": {
        "id": "xBayMtyJ0jTb"
      },
      "source": [
        "model_conv = torchvision.models.resnet18(pretrained=True)\r\n",
        "for param in model_conv.parameters():\r\n",
        "    param.requires_grad = False\r\n",
        "\r\n",
        "# Parameters of newly constructed modules have requires_grad=True by default\r\n",
        "num_ftrs = model_conv.fc.in_features\r\n",
        "model_conv.fc = nn.Linear(num_ftrs, 5)\r\n",
        "\r\n",
        "model_conv = model_conv.to(device)\r\n",
        "\r\n",
        "criterion = nn.CrossEntropyLoss()\r\n",
        "\r\n",
        "# Observe that only parameters of final layer are being optimized as\r\n",
        "# opposed to before.\r\n",
        "optimizer_conv = optim.SGD(model_conv.fc.parameters(), lr=0.001, momentum=0.9)\r\n",
        "\r\n",
        "# Decay LR by a factor of 0.1 every 7 epochs\r\n",
        "exp_lr_scheduler = lr_scheduler.StepLR(optimizer_conv, step_size=7, gamma=0.1)"
      ],
      "execution_count": null,
      "outputs": []
    },
    {
      "cell_type": "code",
      "metadata": {
        "id": "NvThAQs40ncV"
      },
      "source": [
        "model_conv = train_model(model_conv, criterion, optimizer_conv,\r\n",
        "                         exp_lr_scheduler, num_epochs=25)"
      ],
      "execution_count": null,
      "outputs": []
    }
  ]
}